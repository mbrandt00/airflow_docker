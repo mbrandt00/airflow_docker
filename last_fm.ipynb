{
 "cells": [
  {
   "cell_type": "code",
   "execution_count": null,
   "metadata": {},
   "outputs": [],
   "source": [
    "import pylast\n",
    "import tabulate\n",
    "import pdb\n",
    "from datetime import date, time, datetime\n",
    "import calendar"
   ]
  },
  {
   "cell_type": "code",
   "execution_count": null,
   "metadata": {},
   "outputs": [],
   "source": [
    "API_KEY = '817b23876279930e6d658814ffc5d9e8'\n",
    "API_SECRET = '0fa0f1214ad46af35f844c9e80879032'\n",
    "USERNAME = 'mballa000'\n",
    "PASSWORD = '24Hrclock!'"
   ]
  },
  {
   "cell_type": "code",
   "execution_count": null,
   "metadata": {},
   "outputs": [],
   "source": [
    "lastfm_network = pylast.LastFMNetwork(\n",
    "    api_key='817b23876279930e6d658814ffc5d9e8',\n",
    "    api_secret='0fa0f1214ad46af35f844c9e80879032',\n",
    ")\n"
   ]
  },
  {
   "cell_type": "code",
   "execution_count": null,
   "metadata": {},
   "outputs": [],
   "source": [
    "track = pylast.Track(\"Daft Punk\", \"Something About Us\", lastfm_network)\n",
    "print(track.get_album())\n"
   ]
  },
  {
   "cell_type": "code",
   "execution_count": null,
   "metadata": {},
   "outputs": [],
   "source": [
    "user = lastfm_network.get_user(USERNAME)\n",
    "start = datetime(2022, 7, 20, 0, )\n",
    "end = datetime(2022, 7, 21,0 ,0 )\n",
    "\n",
    "utc_start = calendar.timegm(start.utctimetuple())\n",
    "utc_end = calendar.timegm(end.utctimetuple())\n",
    "things = user.get_recent_tracks(time_from= utc_start, time_to= utc_end, limit= 900)\n",
    "print(len(things))\n",
    "for id, track in enumerate(things): \n",
    "  print(id)\n",
    "  print(\"Album: \", track.album)\n",
    "  print(\"Artist: \", track.track.artist)\n",
    "  print(\"Title: \", track.track.title)\n",
    "  print(\"DateTime: \", datetime.fromtimestamp(int(track.timestamp)))\n",
    "\n",
    "\n"
   ]
  }
 ],
 "metadata": {
  "kernelspec": {
   "display_name": "Python 3",
   "language": "python",
   "name": "python3"
  },
  "language_info": {
   "codemirror_mode": {
    "name": "ipython",
    "version": 3
   },
   "file_extension": ".py",
   "mimetype": "text/x-python",
   "name": "python",
   "nbconvert_exporter": "python",
   "pygments_lexer": "ipython3",
   "version": "3.10.8"
  },
  "orig_nbformat": 4,
  "vscode": {
   "interpreter": {
    "hash": "aee8b7b246df8f9039afb4144a1f6fd8d2ca17a180786b69acc140d282b71a49"
   }
  }
 },
 "nbformat": 4,
 "nbformat_minor": 2
}
